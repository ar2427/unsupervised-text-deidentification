{
 "cells": [
  {
   "cell_type": "markdown",
   "id": "54dd8d98-0748-478b-8c82-6b77cfa44e53",
   "metadata": {},
   "source": [
    "# Gradient-based word deletion\n",
    "\n",
    "I trained a model to \"reidentify\" individuals from information about them. Specifically, this model tries to read the beginning of a Wikipedia page and predict (given the infoboxes of many people's Wikipedia page) which person the page is about. Now I'm going to try and fool this \"reidentifier\" model, and see how many words I have to delete in order to fool the reidentifier a certain percentage of the time."
   ]
  },
  {
   "cell_type": "markdown",
   "id": "476a8aa4-1973-48e9-842f-dc95dd66c3d4",
   "metadata": {},
   "source": [
    "## 1. Load the model and make a prediction"
   ]
  },
  {
   "cell_type": "code",
   "execution_count": null,
   "id": "68a87966-0c59-45f7-8502-5e7da6710a32",
   "metadata": {},
   "outputs": [],
   "source": [
    "## (1) code here"
   ]
  },
  {
   "cell_type": "markdown",
   "id": "8cf32511-1971-482b-88b3-6848e6c83f5f",
   "metadata": {},
   "source": [
    "## 2. Define attack in TextAttack \n",
    "### (a) Gradient-based word deletion\n",
    "### (b) \"Attack success\" as fullfilment of the metric"
   ]
  },
  {
   "cell_type": "code",
   "execution_count": null,
   "id": "d259f78c-2ece-4727-87e6-b7cb714e5afc",
   "metadata": {},
   "outputs": [],
   "source": [
    "## (2) code here"
   ]
  },
  {
   "cell_type": "markdown",
   "id": "5abde44f-912e-4f31-8abd-8706ce99bbc6",
   "metadata": {},
   "source": [
    "## 3. Run attack for multiple values of $\\epsilon$"
   ]
  },
  {
   "cell_type": "code",
   "execution_count": null,
   "id": "93071875-f139-4841-8c47-cc14a327f6e8",
   "metadata": {},
   "outputs": [],
   "source": [
    "## (3) code here"
   ]
  }
 ],
 "metadata": {
  "kernelspec": {
   "display_name": "Python 3",
   "language": "python",
   "name": "python3"
  },
  "language_info": {
   "codemirror_mode": {
    "name": "ipython",
    "version": 3
   },
   "file_extension": ".py",
   "mimetype": "text/x-python",
   "name": "python",
   "nbconvert_exporter": "python",
   "pygments_lexer": "ipython3",
   "version": "3.9.7"
  }
 },
 "nbformat": 4,
 "nbformat_minor": 5
}
