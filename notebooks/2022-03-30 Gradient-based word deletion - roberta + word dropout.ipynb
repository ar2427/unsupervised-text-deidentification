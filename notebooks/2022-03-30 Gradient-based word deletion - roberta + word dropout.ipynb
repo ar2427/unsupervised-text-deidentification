{
 "cells": [
  {
   "cell_type": "markdown",
   "id": "54dd8d98-0748-478b-8c82-6b77cfa44e53",
   "metadata": {},
   "source": [
    "# Gradient-based word deletion - edited\n",
    "\n",
    "I realized a flaw in the previous notebook, where I was ranking words based on their score change when substituting with `[UNK]` instead of `[MASK]`.  Now I'm going to rerun using beam search, which should do a better job at identifying the most important words to replace."
   ]
  },
  {
   "cell_type": "code",
   "execution_count": 6,
   "id": "7d252cb9-4ee5-42f2-98df-af6e72555090",
   "metadata": {},
   "outputs": [],
   "source": [
    "import sys\n",
    "sys.path.append('/home/jxm3/research/deidentification/unsupervised-deidentification')"
   ]
  },
  {
   "cell_type": "code",
   "execution_count": 7,
   "id": "68a87966-0c59-45f7-8502-5e7da6710a32",
   "metadata": {},
   "outputs": [
    {
     "name": "stderr",
     "output_type": "stream",
     "text": [
      "Some weights of the model checkpoint at roberta-base were not used when initializing RobertaModel: ['lm_head.dense.bias', 'lm_head.decoder.weight', 'lm_head.dense.weight', 'lm_head.layer_norm.bias', 'lm_head.bias', 'lm_head.layer_norm.weight']\n",
      "- This IS expected if you are initializing RobertaModel from the checkpoint of a model trained on another task or with another architecture (e.g. initializing a BertForSequenceClassification model from a BertForPreTraining model).\n",
      "- This IS NOT expected if you are initializing RobertaModel from the checkpoint of a model that you expect to be exactly identical (initializing a BertForSequenceClassification model from a BertForSequenceClassification model).\n"
     ]
    },
    {
     "name": "stdout",
     "output_type": "stream",
     "text": [
      "Initialized DocumentProfileMatchingTransformer with learning_rate = 2e-05\n",
      "[*] Word dropout hyperparameters: ratio: 0.5 / percentage: 0.5 / token: <mask>\n"
     ]
    }
   ],
   "source": [
    "from model import DocumentProfileMatchingTransformer\n",
    "\n",
    "checkpoint_path = \"/home/jxm3/research/deidentification/unsupervised-deidentification/saves/deid-wikibio_default/1yjm9jpz_33/checkpoints/epoch=19-step=9119.ckpt\"\n",
    "model = DocumentProfileMatchingTransformer.load_from_checkpoint(\n",
    "    checkpoint_path,\n",
    "    dataset_name='wiki_bio',\n",
    "    model_name_or_path='roberta-base',\n",
    "    num_workers=1,\n",
    "    loss_fn='exact',\n",
    "    base_folder=\"/home/jxm3/research/deidentification/unsupervised-deidentification\",\n",
    ")"
   ]
  },
  {
   "cell_type": "code",
   "execution_count": 11,
   "id": "29132408-7f12-472e-896b-494b99fda702",
   "metadata": {},
   "outputs": [
    {
     "name": "stdout",
     "output_type": "stream",
     "text": [
      "Initializing WikipediaDataModule with num_workers = 8\n"
     ]
    },
    {
     "name": "stderr",
     "output_type": "stream",
     "text": [
      "Using custom data configuration default\n",
      "Reusing dataset wiki_bio (/home/jxm3/.cache/huggingface/datasets/wiki_bio/default/1.2.0/c05ce066e9026831cd7535968a311fc80f074b58868cfdffccbc811dff2ab6da)\n",
      "Using custom data configuration default\n",
      "Reusing dataset wiki_bio (/home/jxm3/.cache/huggingface/datasets/wiki_bio/default/1.2.0/c05ce066e9026831cd7535968a311fc80f074b58868cfdffccbc811dff2ab6da)\n",
      "Loading cached processed dataset at /home/jxm3/.cache/huggingface/datasets/wiki_bio/default/1.2.0/c05ce066e9026831cd7535968a311fc80f074b58868cfdffccbc811dff2ab6da/cache-5535f82839d9fec4.arrow\n",
      "Loading cached processed dataset at /home/jxm3/.cache/huggingface/datasets/wiki_bio/default/1.2.0/c05ce066e9026831cd7535968a311fc80f074b58868cfdffccbc811dff2ab6da/cache-5b1c3941089b7f1b.arrow\n",
      "Loading cached processed dataset at /home/jxm3/.cache/huggingface/datasets/wiki_bio/default/1.2.0/c05ce066e9026831cd7535968a311fc80f074b58868cfdffccbc811dff2ab6da/cache-a2264e794b2b2c55.arrow\n",
      "Loading cached processed dataset at /home/jxm3/.cache/huggingface/datasets/wiki_bio/default/1.2.0/c05ce066e9026831cd7535968a311fc80f074b58868cfdffccbc811dff2ab6da/cache-2a7ce20cdfa195aa.arrow\n"
     ]
    },
    {
     "data": {
      "application/vnd.jupyter.widget-view+json": {
       "model_id": "017d48e5254e468bb6083fcc72b597a7",
       "version_major": 2,
       "version_minor": 0
      },
      "text/plain": [
       "  0%|          | 0/59 [00:00<?, ?ba/s]"
      ]
     },
     "metadata": {},
     "output_type": "display_data"
    },
    {
     "data": {
      "application/vnd.jupyter.widget-view+json": {
       "model_id": "1475766da465466eaab50ae969706ff9",
       "version_major": 2,
       "version_minor": 0
      },
      "text/plain": [
       "  0%|          | 0/15 [00:00<?, ?ba/s]"
      ]
     },
     "metadata": {},
     "output_type": "display_data"
    },
    {
     "data": {
      "application/vnd.jupyter.widget-view+json": {
       "model_id": "fd9122590b064bfe86977a538c7b836f",
       "version_major": 2,
       "version_minor": 0
      },
      "text/plain": [
       "  0%|          | 0/59 [00:00<?, ?ba/s]"
      ]
     },
     "metadata": {},
     "output_type": "display_data"
    },
    {
     "data": {
      "application/vnd.jupyter.widget-view+json": {
       "model_id": "4ca5abcc7d844d84860b7b138bbbb6ed",
       "version_major": 2,
       "version_minor": 0
      },
      "text/plain": [
       "  0%|          | 0/15 [00:00<?, ?ba/s]"
      ]
     },
     "metadata": {},
     "output_type": "display_data"
    }
   ],
   "source": [
    "from dataloader import WikipediaDataModule\n",
    "import os\n",
    "\n",
    "num_cpus = os.cpu_count()\n",
    "\n",
    "dm = WikipediaDataModule(\n",
    "    model_name_or_path='roberta-base',\n",
    "    dataset_name='wiki_bio',\n",
    "    num_workers=min(8, num_cpus),\n",
    "    train_batch_size=64,\n",
    "    eval_batch_size=64,\n",
    "    max_seq_length=64,\n",
    "    redaction_strategy=\"\",\n",
    "    base_folder=\"/home/jxm3/research/deidentification/unsupervised-deidentification\",\n",
    ")\n",
    "dm.setup(\"fit\")"
   ]
  },
  {
   "cell_type": "markdown",
   "id": "8cf32511-1971-482b-88b3-6848e6c83f5f",
   "metadata": {},
   "source": [
    "## 2. Define attack in TextAttack "
   ]
  },
  {
   "cell_type": "code",
   "execution_count": 12,
   "id": "59d5bb01-49aa-4ac1-b394-2484c4171f1c",
   "metadata": {},
   "outputs": [
    {
     "data": {
      "text/plain": [
       "[0, 30086, 89, 2]"
      ]
     },
     "execution_count": 12,
     "metadata": {},
     "output_type": "execute_result"
    }
   ],
   "source": [
    "dm.tokenizer.encode(\"Hi there\")"
   ]
  },
  {
   "cell_type": "code",
   "execution_count": 13,
   "id": "892a9a11-e802-42a4-a2be-a3e1874cf060",
   "metadata": {},
   "outputs": [
    {
     "data": {
      "text/plain": [
       "[0, 30086, 89, 646, 32804, 530, 742, 2]"
      ]
     },
     "execution_count": 13,
     "metadata": {},
     "output_type": "execute_result"
    }
   ],
   "source": [
    "dm.tokenizer.encode(\"Hi there [MASK]\")"
   ]
  },
  {
   "cell_type": "code",
   "execution_count": 14,
   "id": "af27899c-2674-4670-9acc-59803a995502",
   "metadata": {},
   "outputs": [
    {
     "data": {
      "text/plain": [
       "[0, 30086, 89, 50264, 2]"
      ]
     },
     "execution_count": 14,
     "metadata": {},
     "output_type": "execute_result"
    }
   ],
   "source": [
    "dm.tokenizer.encode(\"Hi there <mask>\")"
   ]
  },
  {
   "cell_type": "code",
   "execution_count": 20,
   "id": "ae9d2d85-d9a3-4af6-b370-1554f730eb25",
   "metadata": {},
   "outputs": [
    {
     "data": {
      "text/plain": [
       "['<s>', 'Hi', ' there', '<mask>', ' /', ' intersection', 'ality', '</s>']"
      ]
     },
     "execution_count": 20,
     "metadata": {},
     "output_type": "execute_result"
    }
   ],
   "source": [
    "[dm.tokenizer.decode(t) for t in dm.tokenizer.encode(\"Hi there <mask> / intersectionality\")]"
   ]
  },
  {
   "cell_type": "code",
   "execution_count": 21,
   "id": "26a8d967-bbe6-4cb2-bdfd-883ae232b8e8",
   "metadata": {},
   "outputs": [
    {
     "data": {
      "text/plain": [
       "['<s>', 'inter', 'section', 'ality', '</s>']"
      ]
     },
     "execution_count": 21,
     "metadata": {},
     "output_type": "execute_result"
    }
   ],
   "source": [
    "[dm.tokenizer.decode(t) for t in dm.tokenizer.encode(\"intersectionality\")]"
   ]
  },
  {
   "cell_type": "code",
   "execution_count": 22,
   "id": "996b9503-11dd-4378-bc97-794e195448be",
   "metadata": {},
   "outputs": [],
   "source": [
    "import textattack"
   ]
  },
  {
   "cell_type": "markdown",
   "id": "b9137c22-612e-44c4-8557-42dcdabd8fd5",
   "metadata": {},
   "source": [
    "### (a) Beam search + replace with `[MASK]`"
   ]
  },
  {
   "cell_type": "code",
   "execution_count": 23,
   "id": "9ee1838b-420d-4fc0-a849-45afcf3f1b54",
   "metadata": {},
   "outputs": [
    {
     "data": {
      "text/plain": [
       "[<AttackedText \"<mask> my name is Jack\">,\n",
       " <AttackedText \"Hello <mask> name is Jack\">,\n",
       " <AttackedText \"Hello my <mask> is Jack\">,\n",
       " <AttackedText \"Hello my name <mask> Jack\">,\n",
       " <AttackedText \"Hello my name is <mask>\">]"
      ]
     },
     "execution_count": 23,
     "metadata": {},
     "output_type": "execute_result"
    }
   ],
   "source": [
    "class WordSwapSingleWord(textattack.transformations.word_swap.WordSwap):\n",
    "    \"\"\"Takes a sentence and transforms it by replacing with a single fixed word.\n",
    "    \"\"\"\n",
    "    single_word: str\n",
    "    def __init__(self, single_word: str = \"?\", **kwargs):\n",
    "        super().__init__(**kwargs)\n",
    "        self.single_word = single_word\n",
    "\n",
    "    def _get_replacement_words(self, _word: str):\n",
    "        return [self.single_word]\n",
    "\n",
    "transformation = WordSwapSingleWord(single_word=dm.tokenizer.mask_token)\n",
    "transformation(textattack.shared.AttackedText(\"Hello my name is Jack\"))"
   ]
  },
  {
   "cell_type": "markdown",
   "id": "57d1de22-75f2-4049-8cf8-6023ddf4403d",
   "metadata": {},
   "source": [
    "### (b) \"Attack success\" as fullfilment of the metric"
   ]
  },
  {
   "cell_type": "code",
   "execution_count": 24,
   "id": "d259f78c-2ece-4727-87e6-b7cb714e5afc",
   "metadata": {},
   "outputs": [],
   "source": [
    "from typing import List\n",
    "import torch\n",
    "\n",
    "class ChangeClassificationToBelowTopKClasses(textattack.goal_functions.ClassificationGoalFunction):\n",
    "    k: int\n",
    "    def __init__(self, *args, k: int = 1, **kwargs):\n",
    "        self.k = k\n",
    "        super().__init__(*args, **kwargs)\n",
    "\n",
    "    def _is_goal_complete(self, model_output, _):\n",
    "        original_class_score = model_output[self.ground_truth_output]\n",
    "        num_better_classes = (model_output > original_class_score).sum()\n",
    "        return num_better_classes >= self.k\n",
    "\n",
    "    def _get_score(self, model_output, _):\n",
    "        return 1 - model_output[self.ground_truth_output]\n",
    "    \n",
    "    \n",
    "    \"\"\"have to reimplement the following method to change the precision on the sum-to-one condition.\"\"\"\n",
    "    def _process_model_outputs(self, inputs, scores):\n",
    "        \"\"\"Processes and validates a list of model outputs.\n",
    "        This is a task-dependent operation. For example, classification\n",
    "        outputs need to have a softmax applied.\n",
    "        \"\"\"\n",
    "        # Automatically cast a list or ndarray of predictions to a tensor.\n",
    "        if isinstance(scores, list):\n",
    "            scores = torch.tensor(scores)\n",
    "\n",
    "        # Ensure the returned value is now a tensor.\n",
    "        if not isinstance(scores, torch.Tensor):\n",
    "            raise TypeError(\n",
    "                \"Must have list, np.ndarray, or torch.Tensor of \"\n",
    "                f\"scores. Got type {type(scores)}\"\n",
    "            )\n",
    "\n",
    "        # Validation check on model score dimensions\n",
    "        if scores.ndim == 1:\n",
    "            # Unsqueeze prediction, if it's been squeezed by the model.\n",
    "            if len(inputs) == 1:\n",
    "                scores = scores.unsqueeze(dim=0)\n",
    "            else:\n",
    "                raise ValueError(\n",
    "                    f\"Model return score of shape {scores.shape} for {len(inputs)} inputs.\"\n",
    "                )\n",
    "        elif scores.ndim != 2:\n",
    "            # If model somehow returns too may dimensions, throw an error.\n",
    "            raise ValueError(\n",
    "                f\"Model return score of shape {scores.shape} for {len(inputs)} inputs.\"\n",
    "            )\n",
    "        elif scores.shape[0] != len(inputs):\n",
    "            # If model returns an incorrect number of scores, throw an error.\n",
    "            raise ValueError(\n",
    "                f\"Model return score of shape {scores.shape} for {len(inputs)} inputs.\"\n",
    "            )\n",
    "        elif not ((scores.sum(dim=1) - 1).abs() < 1e-4).all():\n",
    "            # Values in each row should sum up to 1. The model should return a\n",
    "            # set of numbers corresponding to probabilities, which should add\n",
    "            # up to 1. Since they are `torch.float` values, allow a small\n",
    "            # error in the summation.\n",
    "            scores = torch.nn.functional.softmax(scores, dim=1)\n",
    "            if not ((scores.sum(dim=1) - 1).abs() < 1e-4).all():\n",
    "                raise ValueError(\"Model scores do not add up to 1.\")\n",
    "        return scores.cpu()\n"
   ]
  },
  {
   "cell_type": "markdown",
   "id": "edb4405c-876a-4246-b33d-dbdfc80cd85c",
   "metadata": {},
   "source": [
    "## (c) Model wrapper that computes similarities of input documents with validation profiles"
   ]
  },
  {
   "cell_type": "code",
   "execution_count": 41,
   "id": "dd35ad75-a681-4168-87b8-efee22ea41c0",
   "metadata": {},
   "outputs": [],
   "source": [
    "import transformers\n",
    "\n",
    "class MyModelWrapper(textattack.models.wrappers.ModelWrapper):\n",
    "    model: DocumentProfileMatchingTransformer\n",
    "    tokenizer: transformers.PreTrainedTokenizer\n",
    "    profile_embeddings: torch.Tensor\n",
    "    max_seq_length: int\n",
    "    \n",
    "    def __init__(self, model: DocumentProfileMatchingTransformer, tokenizer: transformers.PreTrainedTokenizer, max_seq_length: int = 64):\n",
    "        self.model = model\n",
    "        self.model.eval()\n",
    "        self.tokenizer = tokenizer\n",
    "        self.profile_embeddings = torch.tensor(model.val_embeddings)\n",
    "        self.max_seq_length = max_seq_length\n",
    "                 \n",
    "    def to(self, device):\n",
    "        self.model.to(device)\n",
    "        self.profile_embeddings.to(device)\n",
    "        return self # so semantics `model = MyModelWrapper().to('cuda')` works properly\n",
    "\n",
    "    def __call__(self, text_input_list, batch_size=32):\n",
    "        model_device = next(self.model.parameters()).device\n",
    "        tokenized_ids = self.tokenizer.batch_encode_plus(\n",
    "            text_input_list,\n",
    "            max_length=self.max_seq_length,\n",
    "            padding=True,\n",
    "            truncation=True\n",
    "        )\n",
    "        tokenized_ids = {k: torch.tensor(v).to(model_device) for k,v in tokenized_ids.items()}\n",
    "        \n",
    "        # TODO: implement batch size if we start running out of memory here.\n",
    "        with torch.no_grad():\n",
    "            document_embeddings = self.model.document_model(**tokenized_ids)\n",
    "            document_embeddings = document_embeddings['last_hidden_state'][:, 0, :] # (batch, document_emb_dim)\n",
    "            document_embeddings = self.model.lower_dim_embed(document_embeddings) # (batch, emb_dim)\n",
    "\n",
    "        document_to_profile_probs = torch.nn.functional.softmax(\n",
    "            document_embeddings @ self.profile_embeddings.T.to(model_device), dim=-1)\n",
    "        assert document_to_profile_probs.shape == (len(text_input_list), len(self.profile_embeddings))\n",
    "        return document_to_profile_probs\n",
    "            "
   ]
  },
  {
   "cell_type": "markdown",
   "id": "4eeee781-ae57-47c4-8679-52014830cc7e",
   "metadata": {},
   "source": [
    "## (d) Dataset that loads Wikipedia documents with names as labels"
   ]
  },
  {
   "cell_type": "code",
   "execution_count": 57,
   "id": "b35ca719-fdad-45ee-b979-9c2a67d58c91",
   "metadata": {},
   "outputs": [],
   "source": [
    "from typing import Tuple\n",
    "\n",
    "from collections import OrderedDict\n",
    "\n",
    "import datasets\n",
    "\n",
    "class WikiDataset(textattack.datasets.Dataset):\n",
    "    dataset: datasets.Dataset\n",
    "    \n",
    "    def __init__(self, dm: WikipediaDataModule):\n",
    "        self.shuffled = True\n",
    "        # filter out super long examples\n",
    "        self.dataset = [ex for ex in dm.val_dataset if ex['document'].count(' ') < 100]\n",
    "        self.label_names = list(dm.val_dataset['name'])\n",
    "    \n",
    "    def __len__(self) -> int:\n",
    "        return len(self.dataset)\n",
    "    \n",
    "    def __getitem__(self, i: int) -> Tuple[OrderedDict, int]:\n",
    "        input_dict = OrderedDict([\n",
    "            ('document', self.dataset[i]['document'])\n",
    "        ])\n",
    "        return input_dict, self.dataset[i]['text_key_id']\n",
    "        "
   ]
  },
  {
   "cell_type": "markdown",
   "id": "5abde44f-912e-4f31-8abd-8706ce99bbc6",
   "metadata": {},
   "source": [
    "## 3. Run attack once"
   ]
  },
  {
   "cell_type": "code",
   "execution_count": 51,
   "id": "1ebcc6fb-26ac-44dd-b5c9-84ca92cbfa61",
   "metadata": {},
   "outputs": [],
   "source": [
    "from textattack.loggers import CSVLogger\n",
    "from textattack.shared import AttackedText\n",
    "\n",
    "import pandas as pd\n",
    "class CustomCSVLogger(CSVLogger):\n",
    "    \"\"\"Logs attack results to a CSV.\"\"\"\n",
    "\n",
    "    def log_attack_result(self, result: textattack.goal_function_results.ClassificationGoalFunctionResult):\n",
    "        original_text, perturbed_text = result.diff_color(self.color_method)\n",
    "        original_text = original_text.replace(\"\\n\", AttackedText.SPLIT_TOKEN)\n",
    "        perturbed_text = perturbed_text.replace(\"\\n\", AttackedText.SPLIT_TOKEN)\n",
    "        result_type = result.__class__.__name__.replace(\"AttackResult\", \"\")\n",
    "        row = {\n",
    "            \"original_person\": result.original_result._processed_output[0],\n",
    "            \"original_text\": original_text,\n",
    "            \"perturbed_person\": result.perturbed_result._processed_output[0],\n",
    "            \"perturbed_text\": perturbed_text,\n",
    "            \"original_score\": result.original_result.score,\n",
    "            \"perturbed_score\": result.perturbed_result.score,\n",
    "            \"original_output\": result.original_result.output,\n",
    "            \"perturbed_output\": result.perturbed_result.output,\n",
    "            \"ground_truth_output\": result.original_result.ground_truth_output,\n",
    "            \"num_queries\": result.num_queries,\n",
    "            \"result_type\": result_type,\n",
    "        }\n",
    "        self.df = pd.concat([self.df, pd.DataFrame([row])], ignore_index=True)\n",
    "        self._flushed = False"
   ]
  },
  {
   "cell_type": "code",
   "execution_count": 52,
   "id": "0f77f286-3f48-44b5-b341-35582807ddb4",
   "metadata": {},
   "outputs": [],
   "source": [
    "class MaxNumWordsModified(textattack.constraints.PreTransformationConstraint):\n",
    "    def __init__(self, max_num_words: int):\n",
    "        self.max_num_words = max_num_words\n",
    "\n",
    "    def _get_modifiable_indices(self, current_text):\n",
    "        \"\"\"Returns the word indices in current_text which are able to be\n",
    "        modified.\"\"\"\n",
    "\n",
    "        if len(current_text.attack_attrs[\"modified_indices\"]) >= self.max_num_words:\n",
    "            return set()\n",
    "        else:\n",
    "            return set(range(len(current_text.words)))\n",
    "\n",
    "    def extra_repr_keys(self):\n",
    "        return [\"max_num_words\"]"
   ]
  },
  {
   "cell_type": "code",
   "execution_count": 53,
   "id": "5a421b8a-9a20-47dd-93ae-2527bca28109",
   "metadata": {},
   "outputs": [
    {
     "data": {
      "text/plain": [
       "<__main__.MyModelWrapper at 0x7f261836a610>"
      ]
     },
     "execution_count": 53,
     "metadata": {},
     "output_type": "execute_result"
    }
   ],
   "source": [
    "model_wrapper = MyModelWrapper(model, dm.tokenizer)\n",
    "model_wrapper.to('cuda')"
   ]
  },
  {
   "cell_type": "code",
   "execution_count": 58,
   "id": "2ec50243-c108-4bc4-8ad8-ad662d555da6",
   "metadata": {},
   "outputs": [
    {
     "name": "stderr",
     "output_type": "stream",
     "text": [
      "textattack: No entry found for goal function <class '__main__.ChangeClassificationToBelowTopKClasses'>.\n",
      "textattack: Unknown if model of class <class 'model.DocumentProfileMatchingTransformer'> compatible with goal function <class '__main__.ChangeClassificationToBelowTopKClasses'>.\n"
     ]
    }
   ],
   "source": [
    "from textattack import Attack\n",
    "from textattack.constraints.pre_transformation import RepeatModification\n",
    "\n",
    "goal_function = ChangeClassificationToBelowTopKClasses(model_wrapper, k=10)\n",
    "constraints = [RepeatModification(), MaxNumWordsModified(max_num_words=10)]\n",
    "transformation = WordSwapSingleWord(single_word=dm.tokenizer.mask_token)\n",
    "search_method = textattack.search_methods.BeamSearch(beam_width=4)\n",
    "\n",
    "attack = Attack(\n",
    "    goal_function, constraints, transformation, search_method\n",
    ")"
   ]
  },
  {
   "cell_type": "code",
   "execution_count": 59,
   "id": "a3cbe2f6-609c-41be-9dbc-d33217451223",
   "metadata": {},
   "outputs": [
    {
     "name": "stdout",
     "output_type": "stream",
     "text": [
      "Attack(\n",
      "  (search_method): BeamSearch(\n",
      "    (beam_width):  4\n",
      "  )\n",
      "  (goal_function):  ChangeClassificationToBelowTopKClasses\n",
      "  (transformation):  WordSwapSingleWord\n",
      "  (constraints): \n",
      "    (0): RepeatModification\n",
      "    (1): MaxNumWordsModified(\n",
      "        (max_num_words):  10\n",
      "      )\n",
      "  (is_black_box):  True\n",
      ") \n",
      "\n"
     ]
    },
    {
     "name": "stderr",
     "output_type": "stream",
     "text": [
      "\n",
      "\n",
      "  0%|          | 0/15 [00:00<?, ?it/s]\u001b[A\u001b[A\n",
      "\n",
      "  7%|▋         | 1/15 [00:12<02:49, 12.09s/it]\u001b[A\u001b[A\n",
      "\n",
      "[Succeeded / Failed / Skipped / Total] 1 / 0 / 0 / 1:   7%|▋         | 1/15 [00:12<02:49, 12.09s/it]\u001b[A\u001b[A\n",
      "\n",
      "[Succeeded / Failed / Skipped / Total] 1 / 0 / 0 / 1:  13%|█▎        | 2/15 [00:14<01:31,  7.01s/it]\u001b[A\u001b[A\n",
      "\n",
      "[Succeeded / Failed / Skipped / Total] 2 / 0 / 0 / 2:  13%|█▎        | 2/15 [00:14<01:31,  7.01s/it]\u001b[A\u001b[A\n",
      "\n",
      "[Succeeded / Failed / Skipped / Total] 2 / 0 / 0 / 2:  20%|██        | 3/15 [00:18<01:13,  6.16s/it]\u001b[A\u001b[A\n",
      "\n",
      "[Succeeded / Failed / Skipped / Total] 3 / 0 / 0 / 3:  20%|██        | 3/15 [00:18<01:13,  6.16s/it]\u001b[A\u001b[A\n",
      "\n",
      "[Succeeded / Failed / Skipped / Total] 3 / 0 / 0 / 3:  27%|██▋       | 4/15 [00:33<01:32,  8.41s/it]\u001b[A\u001b[A\n",
      "\n",
      "[Succeeded / Failed / Skipped / Total] 4 / 0 / 0 / 4:  27%|██▋       | 4/15 [00:33<01:32,  8.41s/it]\u001b[A\u001b[A\n",
      "\n",
      "[Succeeded / Failed / Skipped / Total] 4 / 0 / 0 / 4:  33%|███▎      | 5/15 [00:41<01:22,  8.28s/it]\u001b[A\u001b[A\n",
      "\n",
      "[Succeeded / Failed / Skipped / Total] 5 / 0 / 0 / 5:  33%|███▎      | 5/15 [00:41<01:22,  8.28s/it]\u001b[A\u001b[A\n",
      "\n",
      "[Succeeded / Failed / Skipped / Total] 5 / 0 / 0 / 5:  40%|████      | 6/15 [00:46<01:10,  7.81s/it]\u001b[A\u001b[A\n",
      "\n",
      "[Succeeded / Failed / Skipped / Total] 6 / 0 / 0 / 6:  40%|████      | 6/15 [00:46<01:10,  7.81s/it]\u001b[A\u001b[A\n",
      "\n",
      "[Succeeded / Failed / Skipped / Total] 6 / 0 / 0 / 6:  47%|████▋     | 7/15 [00:59<01:08,  8.54s/it]\u001b[A\u001b[A\n",
      "\n",
      "[Succeeded / Failed / Skipped / Total] 7 / 0 / 0 / 7:  47%|████▋     | 7/15 [00:59<01:08,  8.54s/it]\u001b[A\u001b[A\n",
      "\n",
      "[Succeeded / Failed / Skipped / Total] 7 / 0 / 0 / 7:  53%|█████▎    | 8/15 [01:05<00:57,  8.25s/it]\u001b[A\u001b[A\n",
      "\n",
      "[Succeeded / Failed / Skipped / Total] 8 / 0 / 0 / 8:  53%|█████▎    | 8/15 [01:05<00:57,  8.25s/it]\u001b[A\u001b[A\n",
      "\n",
      "[Succeeded / Failed / Skipped / Total] 8 / 0 / 0 / 8:  60%|██████    | 9/15 [01:26<00:57,  9.58s/it]\u001b[A\u001b[A\n",
      "\n",
      "[Succeeded / Failed / Skipped / Total] 9 / 0 / 0 / 9:  60%|██████    | 9/15 [01:26<00:57,  9.58s/it]\u001b[A\u001b[A\n",
      "\n",
      "[Succeeded / Failed / Skipped / Total] 9 / 0 / 0 / 9:  67%|██████▋   | 10/15 [02:14<01:07, 13.45s/it]\u001b[A\u001b[A\n",
      "\n",
      "[Succeeded / Failed / Skipped / Total] 10 / 0 / 0 / 10:  67%|██████▋   | 10/15 [02:14<01:07, 13.45s/it]\u001b[A\u001b[A\n",
      "\n",
      "[Succeeded / Failed / Skipped / Total] 10 / 0 / 0 / 10:  73%|███████▎  | 11/15 [02:17<00:49, 12.48s/it]\u001b[A\u001b[A\n",
      "\n",
      "[Succeeded / Failed / Skipped / Total] 11 / 0 / 0 / 11:  73%|███████▎  | 11/15 [02:17<00:49, 12.48s/it]\u001b[A\u001b[A\n",
      "\n",
      "[Succeeded / Failed / Skipped / Total] 11 / 0 / 1 / 12:  80%|████████  | 12/15 [02:17<00:34, 11.45s/it]\u001b[A\u001b[A\n",
      "\n",
      "[Succeeded / Failed / Skipped / Total] 11 / 0 / 1 / 12:  87%|████████▋ | 13/15 [02:56<00:27, 13.61s/it]\u001b[A\u001b[A\n",
      "\n",
      "[Succeeded / Failed / Skipped / Total] 11 / 1 / 1 / 13:  87%|████████▋ | 13/15 [02:56<00:27, 13.61s/it]\u001b[A\u001b[A\n",
      "\n",
      "[Succeeded / Failed / Skipped / Total] 11 / 1 / 1 / 13:  93%|█████████▎| 14/15 [02:59<00:12, 12.84s/it]\u001b[A\u001b[A\n",
      "\n",
      "[Succeeded / Failed / Skipped / Total] 12 / 1 / 1 / 14:  93%|█████████▎| 14/15 [02:59<00:12, 12.84s/it]\u001b[A\u001b[A\n",
      "\n",
      "[Succeeded / Failed / Skipped / Total] 12 / 1 / 1 / 14: 100%|██████████| 15/15 [03:05<00:00, 12.38s/it]\u001b[A\u001b[A\n",
      "\n",
      "[Succeeded / Failed / Skipped / Total] 13 / 1 / 1 / 15: 100%|██████████| 15/15 [03:05<00:00, 12.38s/it]\u001b[A\u001b[A"
     ]
    },
    {
     "name": "stdout",
     "output_type": "stream",
     "text": [
      "\n",
      "+-------------------------------+--------+\n",
      "| Attack Results                |        |\n",
      "+-------------------------------+--------+\n",
      "| Number of successful attacks: | 13     |\n",
      "| Number of failed attacks:     | 1      |\n",
      "| Number of skipped attacks:    | 1      |\n",
      "| Original accuracy:            | 93.33% |\n",
      "| Accuracy under attack:        | 6.67%  |\n",
      "| Attack success rate:          | 92.86% |\n",
      "| Average perturbed word %:     | 18.75% |\n",
      "| Average num. words per input: | 34.93  |\n",
      "| Avg num queries:              | 487.29 |\n",
      "+-------------------------------+--------+"
     ]
    },
    {
     "name": "stderr",
     "output_type": "stream",
     "text": [
      "\n",
      "textattack: Logging to CSV at path results.csv\n",
      "textattack: CSVLogger exiting without calling flush().\n"
     ]
    },
    {
     "name": "stdout",
     "output_type": "stream",
     "text": [
      "\n"
     ]
    },
    {
     "data": {
      "text/html": [
       "<table border=\"1\" class=\"dataframe\">\n",
       "  <thead>\n",
       "    <tr style=\"text-align: right;\">\n",
       "      <th></th>\n",
       "      <th>original_person</th>\n",
       "      <th>original_text</th>\n",
       "      <th>perturbed_person</th>\n",
       "      <th>perturbed_text</th>\n",
       "      <th>original_score</th>\n",
       "      <th>perturbed_score</th>\n",
       "      <th>original_output</th>\n",
       "      <th>perturbed_output</th>\n",
       "      <th>ground_truth_output</th>\n",
       "      <th>num_queries</th>\n",
       "      <th>result_type</th>\n",
       "    </tr>\n",
       "  </thead>\n",
       "  <tbody>\n",
       "    <tr>\n",
       "      <th>0</th>\n",
       "      <td>Alan hopes</td>\n",
       "      <td>pope michael iii of alexandria -lrb- also known as <font color = yellow>khail</font> iii -rrb- was the coptic pope of <font color = yellow>alexandria</font> and patriarch of the see of st. mark -lrb- 880 -- 907 -rrb- .<SPLIT>in 882 , the governor of egypt , ahmad ibn tulun , forced khail to pay heavy contributions , forcing him to sell a church and some attached properties to the local jewish community .<SPLIT>this building was at one time believed to have later become the site of the cairo geniza .<SPLIT></td>\n",
       "      <td>Adrian iv</td>\n",
       "      <td>pope michael iii of alexandria -lrb- also known as <<font color = green>mask</font>> iii -rrb- was the coptic pope of <<font color = green>mask</font>> and patriarch of the see of st. mark -lrb- 880 -- 907 -rrb- .<SPLIT>in 882 , the governor of egypt , ahmad ibn tulun , forced khail to pay heavy contributions , forcing him to sell a church and some attached properties to the local jewish community .<SPLIT>this building was at one time believed to have later become the site of the cairo geniza .<SPLIT></td>\n",
       "      <td>0.935631</td>\n",
       "      <td>0.988045</td>\n",
       "      <td>2964</td>\n",
       "      <td>1991</td>\n",
       "      <td>0</td>\n",
       "      <td>382</td>\n",
       "      <td>Successful</td>\n",
       "    </tr>\n",
       "    <tr>\n",
       "      <th>1</th>\n",
       "      <td>Hui jun</td>\n",
       "      <td><font color = green>hui</font> <font color = green>jun</font> is a <font color = green>male</font> former <font color = green>table</font> <font color = green>tennis</font> <font color = green>player</font> from <font color = green>china</font> .<SPLIT></td>\n",
       "      <td>Paul pelletier</td>\n",
       "      <td><<font color = purple>mask</font>> <<font color = purple>mask</font>> is a <<font color = purple>mask</font>> former <<font color = purple>mask</font>> <<font color = purple>mask</font>> <<font color = purple>mask</font>> from <<font color = purple>mask</font>> .<SPLIT></td>\n",
       "      <td>0.000003</td>\n",
       "      <td>0.998136</td>\n",
       "      <td>1</td>\n",
       "      <td>12413</td>\n",
       "      <td>1</td>\n",
       "      <td>192</td>\n",
       "      <td>Successful</td>\n",
       "    </tr>\n",
       "    <tr>\n",
       "      <th>2</th>\n",
       "      <td>Nikola matas</td>\n",
       "      <td><font color = green>okan</font> <font color = green>Öztürk</font> -lrb- born 30 november 1977 -rrb- is a <font color = green>turkish</font> professional footballer .<SPLIT>he currently plays as a striker for yeni malatyaspor .<SPLIT></td>\n",
       "      <td>Artyom serdyuk</td>\n",
       "      <td><<font color = pink>mask</font>> <<font color = pink>mask</font>> -lrb- born 30 november 1977 -rrb- is a <<font color = pink>mask</font>> professional footballer .<SPLIT>he currently plays as a striker for yeni malatyaspor .<SPLIT></td>\n",
       "      <td>0.922988</td>\n",
       "      <td>0.993335</td>\n",
       "      <td>9701</td>\n",
       "      <td>8196</td>\n",
       "      <td>2</td>\n",
       "      <td>187</td>\n",
       "      <td>Successful</td>\n",
       "    </tr>\n",
       "    <tr>\n",
       "      <th>3</th>\n",
       "      <td>Laura pomportes</td>\n",
       "      <td>marie <font color = pink>stephan</font> , -<font color = pink>lrb-</font> born <font color = pink>march</font> 14 , 1996 -rrb- is a professional squash player who <font color = pink>represents</font> <font color = pink>france</font> .<SPLIT>she reached a <font color = pink>career-high</font> world ranking of world no. 101 in july <font color = pink>2015</font> .<SPLIT></td>\n",
       "      <td>Laura pomportes</td>\n",
       "      <td>marie <<font color = pink>mask</font>> , -<<font color = pink>mask</font>> born <<font color = pink>mask</font>> 14 , 1996 -rrb- is a professional squash player who <<font color = pink>mask</font>> <<font color = pink>mask</font>> .<SPLIT>she reached a <<font color = pink>mask</font>> world ranking of world no. 101 in july <<font color = pink>mask</font>> .<SPLIT></td>\n",
       "      <td>0.691274</td>\n",
       "      <td>0.992502</td>\n",
       "      <td>4726</td>\n",
       "      <td>4726</td>\n",
       "      <td>3</td>\n",
       "      <td>642</td>\n",
       "      <td>Successful</td>\n",
       "    </tr>\n",
       "    <tr>\n",
       "      <th>4</th>\n",
       "      <td>Leonard l. martino</td>\n",
       "      <td><font color = yellow>leonard</font> l. <font color = yellow>martino</font> is a former <font color = yellow>democratic</font> member of the <font color = yellow>pennsylvania</font> house of representatives .<SPLIT>he was born in butler to <font color = yellow>michael</font> and angela pitullio martino .<SPLIT></td>\n",
       "      <td>Keith fitzgerald</td>\n",
       "      <td><<font color = brown>mask</font>> l. <<font color = brown>mask</font>> is a former <<font color = brown>mask</font>> member of the <<font color = brown>mask</font>> house of representatives .<SPLIT>he was born in butler to <<font color = brown>mask</font>> and angela pitullio martino .<SPLIT></td>\n",
       "      <td>0.788095</td>\n",
       "      <td>0.986141</td>\n",
       "      <td>4</td>\n",
       "      <td>5669</td>\n",
       "      <td>4</td>\n",
       "      <td>386</td>\n",
       "      <td>Successful</td>\n",
       "    </tr>\n",
       "    <tr>\n",
       "      <th>5</th>\n",
       "      <td>Salome jens</td>\n",
       "      <td><font color = orange>salome</font> <font color = orange>jens</font> -lrb- born <font color = orange>may</font> 8 , 1935 -rrb- is an american stage , film and television actress .<SPLIT>she is perhaps best known for portraying the female changeling on '' '' .<SPLIT></td>\n",
       "      <td>Leyna weber</td>\n",
       "      <td><<font color = yellow>mask</font>> <<font color = yellow>mask</font>> -lrb- born <<font color = yellow>mask</font>> 8 , 1935 -rrb- is an american stage , film and television actress .<SPLIT>she is perhaps best known for portraying the female changeling on '' '' .<SPLIT></td>\n",
       "      <td>0.520021</td>\n",
       "      <td>0.986383</td>\n",
       "      <td>5</td>\n",
       "      <td>7474</td>\n",
       "      <td>5</td>\n",
       "      <td>232</td>\n",
       "      <td>Successful</td>\n",
       "    </tr>\n",
       "    <tr>\n",
       "      <th>6</th>\n",
       "      <td>Carl crawford</td>\n",
       "      <td><font color = pink>carl</font> demonte <font color = pink>crawford</font> -lrb- born august 5 , 1981 -rrb- , nicknamed `` the perfect storm '' , is an american professional baseball left fielder with the los angeles dodgers of major league baseball -lrb- mlb -rrb- .<SPLIT>he bats and throws left-handed .<SPLIT>crawford was drafted by the tampa bay devil rays in the second round -lrb- 52nd overall -rrb- of the 1999 major league baseball draft .<SPLIT>he made his major league debut in 2002 .<SPLIT>crawford has more triples -lrb- 121 -rrb- than any other active baseball player .<SPLIT></td>\n",
       "      <td>Saúl rivera</td>\n",
       "      <td><<font color = pink>mask</font>> demonte <<font color = pink>mask</font>> -lrb- born august 5 , 1981 -rrb- , nicknamed `` the perfect storm '' , is an american professional baseball left fielder with the los angeles dodgers of major league baseball -lrb- mlb -rrb- .<SPLIT>he bats and throws left-handed .<SPLIT>crawford was drafted by the tampa bay devil rays in the second round -lrb- 52nd overall -rrb- of the 1999 major league baseball draft .<SPLIT>he made his major league debut in 2002 .<SPLIT>crawford has more triples -lrb- 121 -rrb- than any other active baseball player .<SPLIT></td>\n",
       "      <td>0.801016</td>\n",
       "      <td>0.984615</td>\n",
       "      <td>6</td>\n",
       "      <td>5816</td>\n",
       "      <td>6</td>\n",
       "      <td>412</td>\n",
       "      <td>Successful</td>\n",
       "    </tr>\n",
       "    <tr>\n",
       "      <th>7</th>\n",
       "      <td>Jim bob</td>\n",
       "      <td>jim <font color = cyan>bob</font> -lrb- born james neil <font color = cyan>morrison</font> on 22 november 1960 -rrb- is a british musician and author , best known as the singer of indie punk band <font color = cyan>carter</font> usm .<SPLIT></td>\n",
       "      <td>Chris knight</td>\n",
       "      <td>jim <<font color = yellow>mask</font>> -lrb- born james neil <<font color = yellow>mask</font>> on 22 november 1960 -rrb- is a british musician and author , best known as the singer of indie punk band <<font color = yellow>mask</font>> usm .<SPLIT></td>\n",
       "      <td>0.506431</td>\n",
       "      <td>0.991659</td>\n",
       "      <td>7</td>\n",
       "      <td>1524</td>\n",
       "      <td>7</td>\n",
       "      <td>250</td>\n",
       "      <td>Successful</td>\n",
       "    </tr>\n",
       "    <tr>\n",
       "      <th>8</th>\n",
       "      <td>Riddick parker</td>\n",
       "      <td>riddick <font color = gray>parker</font> -lrb- born november 20 , 1972 in <font color = gray>emporia</font> , <font color = gray>virginia</font> -rrb- is a former professional american football <font color = gray>defensive</font> <font color = gray>lineman</font> for the seattle seahawks , san diego chargers , new england patriots , baltimore ravens , and san francisco 49ers of the national football league .<SPLIT></td>\n",
       "      <td>Garnell wilds</td>\n",
       "      <td>riddick <<font color = blue>mask</font>> -lrb- born november 20 , 1972 in <<font color = blue>mask</font>> , <<font color = blue>mask</font>> -rrb- is a former professional american football <<font color = blue>mask</font>> <<font color = blue>mask</font>> for the seattle seahawks , san diego chargers , new england patriots , baltimore ravens , and san francisco 49ers of the national football league .<SPLIT></td>\n",
       "      <td>0.816873</td>\n",
       "      <td>0.980680</td>\n",
       "      <td>8</td>\n",
       "      <td>2962</td>\n",
       "      <td>8</td>\n",
       "      <td>641</td>\n",
       "      <td>Successful</td>\n",
       "    </tr>\n",
       "    <tr>\n",
       "      <th>9</th>\n",
       "      <td>Blessed osanna of cattaro -lrb- ozana kotorska -rrb-</td>\n",
       "      <td><font color = brown>blessed</font> osanna of <font color = brown>cattaro</font> <font color = brown>t</font>.o.s.d. -lrb- -rrb- was a <font color = brown>catholic</font> visionary and <font color = brown>anchoress</font> from <font color = brown>cattaro</font> -lrb- kotor -rrb- .<SPLIT>she was a teenage <font color = brown>convert</font> from <font color = brown>orthodoxy</font> of serbian descent from montenegro -lrb- zeta -rrb- .<SPLIT>she became a dominican tertiary and was posthumously venerated as a saint in kotor .<SPLIT>she was later beatified in 1934 .<SPLIT></td>\n",
       "      <td>Paulina lebl-albala</td>\n",
       "      <td><<font color = brown>mask</font>> osanna of <<font color = brown>mask</font>> <<font color = brown>mask</font>>.o.s.d. -lrb- -rrb- was a <<font color = brown>mask</font>> visionary and <<font color = brown>mask</font>> from <<font color = brown>mask</font>> -lrb- kotor -rrb- .<SPLIT>she was a teenage <<font color = brown>mask</font>> from <<font color = brown>mask</font>> of serbian descent from montenegro -lrb- zeta -rrb- .<SPLIT>she became a dominican tertiary and was posthumously venerated as a saint in kotor .<SPLIT>she was later beatified in 1934 .<SPLIT></td>\n",
       "      <td>0.331222</td>\n",
       "      <td>0.992154</td>\n",
       "      <td>9</td>\n",
       "      <td>8309</td>\n",
       "      <td>9</td>\n",
       "      <td>1513</td>\n",
       "      <td>Successful</td>\n",
       "    </tr>\n",
       "    <tr>\n",
       "      <th>10</th>\n",
       "      <td>Thaila ayala</td>\n",
       "      <td>thaila <font color = red>ayala</font> <font color = red>sales</font> -lrb- born april 14 , 1986 in presidente prudente -rrb- is a <font color = red>brazilian</font> actress and model .<SPLIT></td>\n",
       "      <td>Yasemin kozanoğlu</td>\n",
       "      <td>thaila <<font color = green>mask</font>> <<font color = green>mask</font>> -lrb- born april 14 , 1986 in presidente prudente -rrb- is a <<font color = green>mask</font>> actress and model .<SPLIT></td>\n",
       "      <td>0.655959</td>\n",
       "      <td>0.991166</td>\n",
       "      <td>10</td>\n",
       "      <td>6571</td>\n",
       "      <td>10</td>\n",
       "      <td>151</td>\n",
       "      <td>Successful</td>\n",
       "    </tr>\n",
       "    <tr>\n",
       "      <th>11</th>\n",
       "      <td>Andrés cubas</td>\n",
       "      <td>marlon evans -lrb- born 3 august 1997 -rrb- is a guamanian international footballer who plays for wings in the guam men 's soccer league<SPLIT></td>\n",
       "      <td>Andrés cubas</td>\n",
       "      <td>marlon evans -lrb- born 3 august 1997 -rrb- is a guamanian international footballer who plays for wings in the guam men 's soccer league<SPLIT></td>\n",
       "      <td>0.992005</td>\n",
       "      <td>0.992005</td>\n",
       "      <td>4704</td>\n",
       "      <td>4704</td>\n",
       "      <td>13</td>\n",
       "      <td>1</td>\n",
       "      <td>Skipped</td>\n",
       "    </tr>\n",
       "    <tr>\n",
       "      <th>12</th>\n",
       "      <td>Stewart ford</td>\n",
       "      <td><font color = orange>stewart</font> owen <font color = orange>ford</font> -<font color = orange>lrb-</font> born 1964 -rrb- is a <font color = orange>british</font> businessman , the founder and chief executive -<font color = orange>lrb-</font> ceo -<font color = orange>rrb-</font> of the <font color = orange>failed</font> financial company keydata .<SPLIT>he was <font color = orange>fined</font> a record # 75 <font color = orange>million</font> by the financial <font color = orange>conduct</font> authority in may 2015 .<SPLIT></td>\n",
       "      <td>Noam lanir</td>\n",
       "      <td><<font color = brown>mask</font>> owen <<font color = brown>mask</font>> -<<font color = brown>mask</font>> born 1964 -rrb- is a <<font color = brown>mask</font>> businessman , the founder and chief executive -<<font color = brown>mask</font>> ceo -<<font color = brown>mask</font>> of the <<font color = brown>mask</font>> financial company keydata .<SPLIT>he was <<font color = brown>mask</font>> a record # 75 <<font color = brown>mask</font>> by the financial <<font color = brown>mask</font>> authority in may 2015 .<SPLIT></td>\n",
       "      <td>0.792873</td>\n",
       "      <td>0.989244</td>\n",
       "      <td>15</td>\n",
       "      <td>12339</td>\n",
       "      <td>15</td>\n",
       "      <td>1301</td>\n",
       "      <td>Failed</td>\n",
       "    </tr>\n",
       "    <tr>\n",
       "      <th>13</th>\n",
       "      <td>Chris galletta</td>\n",
       "      <td>chris <font color = pink>galletta</font> -lrb- born 1981 -rrb- is an american screenwriter .<SPLIT>he is best known for writing the 2013 coming-of-age film `` the <font color = pink>kings</font> of summer '' .<SPLIT></td>\n",
       "      <td>Will murray</td>\n",
       "      <td>chris <<font color = brown>mask</font>> -lrb- born 1981 -rrb- is an american screenwriter .<SPLIT>he is best known for writing the 2013 coming-of-age film `` the <<font color = brown>mask</font>> of summer '' .<SPLIT></td>\n",
       "      <td>0.828419</td>\n",
       "      <td>0.989838</td>\n",
       "      <td>16</td>\n",
       "      <td>8939</td>\n",
       "      <td>16</td>\n",
       "      <td>122</td>\n",
       "      <td>Successful</td>\n",
       "    </tr>\n",
       "    <tr>\n",
       "      <th>14</th>\n",
       "      <td>Darren m. swain</td>\n",
       "      <td><font color = gray>darren</font> <font color = gray>m</font>. <font color = gray>swain</font> <font color = gray>is</font> an american <font color = gray>politician</font> , <font color = gray>a</font> democrat and a member of the <font color = gray>maryland</font> house of <font color = gray>delegates</font> .<SPLIT></td>\n",
       "      <td>John kellogg</td>\n",
       "      <td><<font color = green>mask</font>> <<font color = green>mask</font>>. <<font color = green>mask</font>> <<font color = green>mask</font>> an american <<font color = green>mask</font>> , <<font color = green>mask</font>> democrat and a member of the <<font color = green>mask</font>> house of <<font color = green>mask</font>> .<SPLIT></td>\n",
       "      <td>0.018927</td>\n",
       "      <td>0.983716</td>\n",
       "      <td>18</td>\n",
       "      <td>2101</td>\n",
       "      <td>18</td>\n",
       "      <td>411</td>\n",
       "      <td>Successful</td>\n",
       "    </tr>\n",
       "  </tbody>\n",
       "</table>"
      ],
      "text/plain": [
       "<IPython.core.display.HTML object>"
      ]
     },
     "metadata": {},
     "output_type": "display_data"
    }
   ],
   "source": [
    "# \n",
    "#  Initialize attack\n",
    "# \n",
    "from tqdm import tqdm # tqdm provides us a nice progress bar.\n",
    "from textattack.attack_results import SuccessfulAttackResult\n",
    "from textattack import Attacker\n",
    "from textattack import AttackArgs\n",
    "\n",
    "attack_args = AttackArgs(num_examples=15, disable_stdout=True)\n",
    "dataset = WikiDataset(dm)\n",
    "\n",
    "attacker = Attacker(attack, dataset, attack_args)\n",
    "\n",
    "results_iterable = attacker.attack_dataset()\n",
    "\n",
    "logger = CustomCSVLogger(color_method='html')\n",
    "\n",
    "# \n",
    "# Run attack\n",
    "# \n",
    "from tqdm import tqdm\n",
    "for result in results_iterable:\n",
    "    tqdm._instances.clear() # Doesn't fix the progress bar :-(\n",
    "    logger.log_attack_result(result)\n",
    "\n",
    "from IPython.display import display, HTML\n",
    "\n",
    "display(HTML(logger.df.to_html(escape=False)))"
   ]
  },
  {
   "cell_type": "markdown",
   "id": "60d1dd56-6cda-4538-a049-94b16f458ee7",
   "metadata": {},
   "source": [
    "## Same attack but with k=100"
   ]
  },
  {
   "cell_type": "code",
   "execution_count": 60,
   "id": "4b1ef51f-087c-41d1-9864-a0878b47bf32",
   "metadata": {},
   "outputs": [
    {
     "name": "stderr",
     "output_type": "stream",
     "text": [
      "textattack: No entry found for goal function <class '__main__.ChangeClassificationToBelowTopKClasses'>.\n",
      "textattack: Unknown if model of class <class 'model.DocumentProfileMatchingTransformer'> compatible with goal function <class '__main__.ChangeClassificationToBelowTopKClasses'>.\n"
     ]
    },
    {
     "name": "stdout",
     "output_type": "stream",
     "text": [
      "Attack(\n",
      "  (search_method): BeamSearch(\n",
      "    (beam_width):  4\n",
      "  )\n",
      "  (goal_function):  ChangeClassificationToBelowTopKClasses\n",
      "  (transformation):  WordSwapSingleWord\n",
      "  (constraints): \n",
      "    (0): RepeatModification\n",
      "    (1): MaxNumWordsModified(\n",
      "        (max_num_words):  10\n",
      "      )\n",
      "  (is_black_box):  True\n",
      ") \n",
      "\n"
     ]
    },
    {
     "name": "stderr",
     "output_type": "stream",
     "text": [
      "[Succeeded / Failed / Skipped / Total] 7 / 8 / 0 / 15: 100%|██████████| 15/15 [05:59<00:00, 24.00s/it]"
     ]
    },
    {
     "name": "stdout",
     "output_type": "stream",
     "text": [
      "\n",
      "+-------------------------------+--------+\n",
      "| Attack Results                |        |\n",
      "+-------------------------------+--------+\n",
      "| Number of successful attacks: | 7      |\n",
      "| Number of failed attacks:     | 8      |\n",
      "| Number of skipped attacks:    | 0      |\n",
      "| Original accuracy:            | 100.0% |\n",
      "| Accuracy under attack:        | 53.33% |\n",
      "| Attack success rate:          | 46.67% |\n",
      "| Average perturbed word %:     | 17.53% |\n",
      "| Average num. words per input: | 34.93  |\n",
      "| Avg num queries:              | 878.87 |\n",
      "+-------------------------------+--------+"
     ]
    },
    {
     "name": "stderr",
     "output_type": "stream",
     "text": [
      "\n",
      "textattack: Logging to CSV at path results.csv\n",
      "textattack: CSVLogger exiting without calling flush().\n"
     ]
    },
    {
     "name": "stdout",
     "output_type": "stream",
     "text": [
      "\n"
     ]
    },
    {
     "data": {
      "text/html": [
       "<table border=\"1\" class=\"dataframe\">\n",
       "  <thead>\n",
       "    <tr style=\"text-align: right;\">\n",
       "      <th></th>\n",
       "      <th>original_person</th>\n",
       "      <th>original_text</th>\n",
       "      <th>perturbed_person</th>\n",
       "      <th>perturbed_text</th>\n",
       "      <th>original_score</th>\n",
       "      <th>perturbed_score</th>\n",
       "      <th>original_output</th>\n",
       "      <th>perturbed_output</th>\n",
       "      <th>ground_truth_output</th>\n",
       "      <th>num_queries</th>\n",
       "      <th>result_type</th>\n",
       "    </tr>\n",
       "  </thead>\n",
       "  <tbody>\n",
       "    <tr>\n",
       "      <th>0</th>\n",
       "      <td>Alan hopes</td>\n",
       "      <td>pope <font color = yellow>michael</font> iii <font color = yellow>of</font> <font color = yellow>alexandria</font> -<font color = yellow>lrb-</font> also known as <font color = yellow>khail</font> iii -rrb- was the coptic <font color = yellow>pope</font> of <font color = yellow>alexandria</font> and patriarch of the see of st. mark -lrb- 880 -- 907 -rrb- .<SPLIT>in 882 , the governor of <font color = yellow>egypt</font> , ahmad ibn tulun , forced khail to pay heavy contributions , forcing him to sell a church and some attached properties to the local jewish community .<SPLIT>this building was at one time believed to have later become the site of the cairo geniza .<SPLIT></td>\n",
       "      <td>Ali</td>\n",
       "      <td>pope <<font color = green>mask</font>> iii <<font color = green>mask</font>> <<font color = green>mask</font>> -<<font color = green>mask</font>> also known as <<font color = green>mask</font>> iii -rrb- was the coptic <<font color = green>mask</font>> of <<font color = green>mask</font>> and patriarch of the see of st. mark -lrb- 880 -- 907 -rrb- .<SPLIT>in 882 , the governor of <<font color = green>mask</font>> , ahmad ibn tulun , forced khail to pay heavy contributions , forcing him to sell a church and some attached properties to the local jewish community .<SPLIT>this building was at one time believed to have later become the site of the cairo geniza .<SPLIT></td>\n",
       "      <td>0.935631</td>\n",
       "      <td>0.998809</td>\n",
       "      <td>2964</td>\n",
       "      <td>8321</td>\n",
       "      <td>0</td>\n",
       "      <td>2122</td>\n",
       "      <td>Successful</td>\n",
       "    </tr>\n",
       "    <tr>\n",
       "      <th>1</th>\n",
       "      <td>Hui jun</td>\n",
       "      <td><font color = green>hui</font> <font color = green>jun</font> is <font color = green>a</font> <font color = green>male</font> <font color = green>former</font> <font color = green>table</font> <font color = green>tennis</font> <font color = green>player</font> <font color = green>from</font> <font color = green>china</font> .<SPLIT></td>\n",
       "      <td>Paul pelletier</td>\n",
       "      <td><<font color = purple>mask</font>> <<font color = purple>mask</font>> is <<font color = purple>mask</font>> <<font color = purple>mask</font>> <<font color = purple>mask</font>> <<font color = purple>mask</font>> <<font color = purple>mask</font>> <<font color = purple>mask</font>> <<font color = purple>mask</font>> <<font color = purple>mask</font>> .<SPLIT></td>\n",
       "      <td>0.000003</td>\n",
       "      <td>0.998865</td>\n",
       "      <td>1</td>\n",
       "      <td>12413</td>\n",
       "      <td>1</td>\n",
       "      <td>228</td>\n",
       "      <td>Failed</td>\n",
       "    </tr>\n",
       "    <tr>\n",
       "      <th>2</th>\n",
       "      <td>Nikola matas</td>\n",
       "      <td><font color = green>okan</font> <font color = green>Öztürk</font> -lrb- born 30 november 1977 -rrb- is a <font color = green>turkish</font> professional footballer .<SPLIT>he currently plays as a <font color = green>striker</font> for yeni <font color = green>malatyaspor</font> .<SPLIT></td>\n",
       "      <td>Yuki yamamura</td>\n",
       "      <td><<font color = red>mask</font>> <<font color = red>mask</font>> -lrb- born 30 november 1977 -rrb- is a <<font color = red>mask</font>> professional footballer .<SPLIT>he currently plays as a <<font color = red>mask</font>> for yeni <<font color = red>mask</font>> .<SPLIT></td>\n",
       "      <td>0.922988</td>\n",
       "      <td>0.998714</td>\n",
       "      <td>9701</td>\n",
       "      <td>11690</td>\n",
       "      <td>2</td>\n",
       "      <td>335</td>\n",
       "      <td>Successful</td>\n",
       "    </tr>\n",
       "    <tr>\n",
       "      <th>3</th>\n",
       "      <td>Laura pomportes</td>\n",
       "      <td>marie <font color = pink>stephan</font> , -<font color = pink>lrb-</font> born <font color = pink>march</font> 14 , 1996 -rrb- is a professional <font color = pink>squash</font> player who <font color = pink>represents</font> <font color = pink>france</font> .<SPLIT>she reached a <font color = pink>career-high</font> <font color = pink>world</font> ranking of world no. 101 in <font color = pink>july</font> <font color = pink>2015</font> .<SPLIT></td>\n",
       "      <td>Julie richardson</td>\n",
       "      <td>marie <<font color = red>mask</font>> , -<<font color = red>mask</font>> born <<font color = red>mask</font>> 14 , 1996 -rrb- is a professional <<font color = red>mask</font>> player who <<font color = red>mask</font>> <<font color = red>mask</font>> .<SPLIT>she reached a <<font color = red>mask</font>> <<font color = red>mask</font>> ranking of world no. 101 in <<font color = red>mask</font>> <<font color = red>mask</font>> .<SPLIT></td>\n",
       "      <td>0.691274</td>\n",
       "      <td>0.996049</td>\n",
       "      <td>4726</td>\n",
       "      <td>2710</td>\n",
       "      <td>3</td>\n",
       "      <td>894</td>\n",
       "      <td>Failed</td>\n",
       "    </tr>\n",
       "    <tr>\n",
       "      <th>4</th>\n",
       "      <td>Leonard l. martino</td>\n",
       "      <td><font color = yellow>leonard</font> <font color = yellow>l</font>. <font color = yellow>martino</font> is a <font color = yellow>former</font> <font color = yellow>democratic</font> member of the <font color = yellow>pennsylvania</font> house of representatives .<SPLIT>he was <font color = yellow>born</font> <font color = yellow>in</font> butler to <font color = yellow>michael</font> and angela pitullio <font color = yellow>martino</font> .<SPLIT></td>\n",
       "      <td>Keith fitzgerald</td>\n",
       "      <td><<font color = brown>mask</font>> <<font color = brown>mask</font>>. <<font color = brown>mask</font>> is a <<font color = brown>mask</font>> <<font color = brown>mask</font>> member of the <<font color = brown>mask</font>> house of representatives .<SPLIT>he was <<font color = brown>mask</font>> <<font color = brown>mask</font>> butler to <<font color = brown>mask</font>> and angela pitullio <<font color = brown>mask</font>> .<SPLIT></td>\n",
       "      <td>0.788095</td>\n",
       "      <td>0.997984</td>\n",
       "      <td>4</td>\n",
       "      <td>5669</td>\n",
       "      <td>4</td>\n",
       "      <td>746</td>\n",
       "      <td>Failed</td>\n",
       "    </tr>\n",
       "    <tr>\n",
       "      <th>5</th>\n",
       "      <td>Salome jens</td>\n",
       "      <td><font color = orange>salome</font> <font color = orange>jens</font> -lrb- born <font color = orange>may</font> 8 , <font color = orange>1935</font> -rrb- is an <font color = orange>american</font> <font color = orange>stage</font> , <font color = orange>film</font> and television actress .<SPLIT><font color = orange>she</font> is <font color = orange>perhaps</font> <font color = orange>best</font> known for portraying the female changeling on '' '' .<SPLIT></td>\n",
       "      <td>Michelle galdenzi</td>\n",
       "      <td><<font color = purple>mask</font>> <<font color = purple>mask</font>> -lrb- born <<font color = purple>mask</font>> 8 , <<font color = purple>mask</font>> -rrb- is an <<font color = purple>mask</font>> <<font color = purple>mask</font>> , <<font color = purple>mask</font>> and television actress .<SPLIT><<font color = purple>mask</font>> is <<font color = purple>mask</font>> <<font color = purple>mask</font>> known for portraying the female changeling on '' '' .<SPLIT></td>\n",
       "      <td>0.520021</td>\n",
       "      <td>0.998299</td>\n",
       "      <td>5</td>\n",
       "      <td>11943</td>\n",
       "      <td>5</td>\n",
       "      <td>820</td>\n",
       "      <td>Failed</td>\n",
       "    </tr>\n",
       "    <tr>\n",
       "      <th>6</th>\n",
       "      <td>Carl crawford</td>\n",
       "      <td><font color = pink>carl</font> demonte <font color = pink>crawford</font> -lrb- born august 5 , 1981 -rrb- , <font color = pink>nicknamed</font> <font color = pink>``</font> the <font color = pink>perfect</font> <font color = pink>storm</font> '' , is an american professional baseball left fielder with the los angeles dodgers of major league baseball -lrb- mlb -rrb- .<SPLIT>he bats and throws left-handed .<SPLIT>crawford was drafted by the tampa bay devil rays in the second round -lrb- 52nd overall -rrb- of the 1999 major league baseball draft .<SPLIT>he made his major league debut in 2002 .<SPLIT>crawford has more triples -lrb- 121 -rrb- than any other active baseball player .<SPLIT></td>\n",
       "      <td>Jhonatan solano</td>\n",
       "      <td><<font color = cyan>mask</font>> demonte <<font color = cyan>mask</font>> -lrb- born august 5 , 1981 -rrb- , <<font color = cyan>mask</font>> <<font color = cyan>mask</font>> the <<font color = cyan>mask</font>> <<font color = cyan>mask</font>> '' , is an american professional baseball left fielder with the los angeles dodgers of major league baseball -lrb- mlb -rrb- .<SPLIT>he bats and throws left-handed .<SPLIT>crawford was drafted by the tampa bay devil rays in the second round -lrb- 52nd overall -rrb- of the 1999 major league baseball draft .<SPLIT>he made his major league debut in 2002 .<SPLIT>crawford has more triples -lrb- 121 -rrb- than any other active baseball player .<SPLIT></td>\n",
       "      <td>0.801016</td>\n",
       "      <td>0.998704</td>\n",
       "      <td>6</td>\n",
       "      <td>12007</td>\n",
       "      <td>6</td>\n",
       "      <td>1684</td>\n",
       "      <td>Successful</td>\n",
       "    </tr>\n",
       "    <tr>\n",
       "      <th>7</th>\n",
       "      <td>Jim bob</td>\n",
       "      <td><font color = cyan>jim</font> <font color = cyan>bob</font> -lrb- born <font color = cyan>james</font> neil <font color = cyan>morrison</font> on 22 november 1960 -rrb- is a british musician and author , best known as the singer of indie punk band <font color = cyan>carter</font> <font color = cyan>usm</font> .<SPLIT></td>\n",
       "      <td>Adam devlin</td>\n",
       "      <td><<font color = purple>mask</font>> <<font color = purple>mask</font>> -lrb- born <<font color = purple>mask</font>> neil <<font color = purple>mask</font>> on 22 november 1960 -rrb- is a british musician and author , best known as the singer of indie punk band <<font color = purple>mask</font>> <<font color = purple>mask</font>> .<SPLIT></td>\n",
       "      <td>0.506431</td>\n",
       "      <td>0.998720</td>\n",
       "      <td>7</td>\n",
       "      <td>7803</td>\n",
       "      <td>7</td>\n",
       "      <td>550</td>\n",
       "      <td>Successful</td>\n",
       "    </tr>\n",
       "    <tr>\n",
       "      <th>8</th>\n",
       "      <td>Riddick parker</td>\n",
       "      <td>riddick <font color = gray>parker</font> -lrb- born november 20 , <font color = gray>1972</font> in <font color = gray>emporia</font> , <font color = gray>virginia</font> -rrb- is a former professional american football <font color = gray>defensive</font> <font color = gray>lineman</font> for the seattle seahawks , <font color = gray>san</font> <font color = gray>diego</font> chargers , new england patriots , baltimore ravens , and <font color = gray>san</font> francisco <font color = gray>49ers</font> of the national football league .<SPLIT></td>\n",
       "      <td>Garnell wilds</td>\n",
       "      <td>riddick <<font color = blue>mask</font>> -lrb- born november 20 , <<font color = blue>mask</font>> in <<font color = blue>mask</font>> , <<font color = blue>mask</font>> -rrb- is a former professional american football <<font color = blue>mask</font>> <<font color = blue>mask</font>> for the seattle seahawks , <<font color = blue>mask</font>> <<font color = blue>mask</font>> chargers , new england patriots , baltimore ravens , and <<font color = blue>mask</font>> francisco <<font color = blue>mask</font>> of the national football league .<SPLIT></td>\n",
       "      <td>0.816873</td>\n",
       "      <td>0.990417</td>\n",
       "      <td>8</td>\n",
       "      <td>2962</td>\n",
       "      <td>8</td>\n",
       "      <td>1301</td>\n",
       "      <td>Failed</td>\n",
       "    </tr>\n",
       "    <tr>\n",
       "      <th>9</th>\n",
       "      <td>Blessed osanna of cattaro -lrb- ozana kotorska -rrb-</td>\n",
       "      <td><font color = brown>blessed</font> osanna of <font color = brown>cattaro</font> <font color = brown>t</font>.o.s.d. -lrb- -rrb- was a <font color = brown>catholic</font> visionary and <font color = brown>anchoress</font> from <font color = brown>cattaro</font> -lrb- kotor -rrb- .<SPLIT>she was a teenage <font color = brown>convert</font> from <font color = brown>orthodoxy</font> of <font color = brown>serbian</font> descent from <font color = brown>montenegro</font> -lrb- zeta -rrb- .<SPLIT>she became a dominican tertiary and was posthumously venerated as a saint in kotor .<SPLIT>she was later beatified in 1934 .<SPLIT></td>\n",
       "      <td>Ch ` oe hyon-mu</td>\n",
       "      <td><<font color = yellow>mask</font>> osanna of <<font color = yellow>mask</font>> <<font color = yellow>mask</font>>.o.s.d. -lrb- -rrb- was a <<font color = yellow>mask</font>> visionary and <<font color = yellow>mask</font>> from <<font color = yellow>mask</font>> -lrb- kotor -rrb- .<SPLIT>she was a teenage <<font color = yellow>mask</font>> from <<font color = yellow>mask</font>> of <<font color = yellow>mask</font>> descent from <<font color = yellow>mask</font>> -lrb- zeta -rrb- .<SPLIT>she became a dominican tertiary and was posthumously venerated as a saint in kotor .<SPLIT>she was later beatified in 1934 .<SPLIT></td>\n",
       "      <td>0.331222</td>\n",
       "      <td>0.996613</td>\n",
       "      <td>9</td>\n",
       "      <td>10154</td>\n",
       "      <td>9</td>\n",
       "      <td>1893</td>\n",
       "      <td>Failed</td>\n",
       "    </tr>\n",
       "    <tr>\n",
       "      <th>10</th>\n",
       "      <td>Thaila ayala</td>\n",
       "      <td><font color = red>thaila</font> <font color = red>ayala</font> <font color = red>sales</font> -lrb- born april 14 , 1986 in presidente prudente -rrb- is a <font color = red>brazilian</font> <font color = red>actress</font> and <font color = red>model</font> .<SPLIT></td>\n",
       "      <td>Louis c. camilleri</td>\n",
       "      <td><<font color = gray>mask</font>> <<font color = gray>mask</font>> <<font color = gray>mask</font>> -lrb- born april 14 , 1986 in presidente prudente -rrb- is a <<font color = gray>mask</font>> <<font color = gray>mask</font>> and <<font color = gray>mask</font>> .<SPLIT></td>\n",
       "      <td>0.655959</td>\n",
       "      <td>0.998854</td>\n",
       "      <td>10</td>\n",
       "      <td>9028</td>\n",
       "      <td>10</td>\n",
       "      <td>319</td>\n",
       "      <td>Successful</td>\n",
       "    </tr>\n",
       "    <tr>\n",
       "      <th>11</th>\n",
       "      <td>Andrés cubas</td>\n",
       "      <td>marlon evans -lrb- born 3 august 1997 -rrb- is a <font color = yellow>guamanian</font> international footballer who plays for wings in the <font color = yellow>guam</font> men 's soccer league<SPLIT></td>\n",
       "      <td>Lewis kinsella</td>\n",
       "      <td>marlon evans -lrb- born 3 august 1997 -rrb- is a <<font color = green>mask</font>> international footballer who plays for wings in the <<font color = green>mask</font>> men 's soccer league<SPLIT></td>\n",
       "      <td>0.992005</td>\n",
       "      <td>0.998376</td>\n",
       "      <td>4704</td>\n",
       "      <td>9371</td>\n",
       "      <td>13</td>\n",
       "      <td>117</td>\n",
       "      <td>Successful</td>\n",
       "    </tr>\n",
       "    <tr>\n",
       "      <th>12</th>\n",
       "      <td>Stewart ford</td>\n",
       "      <td><font color = orange>stewart</font> owen <font color = orange>ford</font> -<font color = orange>lrb-</font> born 1964 -rrb- is a <font color = orange>british</font> businessman , the founder and chief executive -<font color = orange>lrb-</font> ceo -<font color = orange>rrb-</font> of the <font color = orange>failed</font> financial company keydata .<SPLIT>he was <font color = orange>fined</font> a record # 75 <font color = orange>million</font> by the financial <font color = orange>conduct</font> authority in may 2015 .<SPLIT></td>\n",
       "      <td>Noam lanir</td>\n",
       "      <td><<font color = brown>mask</font>> owen <<font color = brown>mask</font>> -<<font color = brown>mask</font>> born 1964 -rrb- is a <<font color = brown>mask</font>> businessman , the founder and chief executive -<<font color = brown>mask</font>> ceo -<<font color = brown>mask</font>> of the <<font color = brown>mask</font>> financial company keydata .<SPLIT>he was <<font color = brown>mask</font>> a record # 75 <<font color = brown>mask</font>> by the financial <<font color = brown>mask</font>> authority in may 2015 .<SPLIT></td>\n",
       "      <td>0.792873</td>\n",
       "      <td>0.989244</td>\n",
       "      <td>15</td>\n",
       "      <td>12339</td>\n",
       "      <td>15</td>\n",
       "      <td>1301</td>\n",
       "      <td>Failed</td>\n",
       "    </tr>\n",
       "    <tr>\n",
       "      <th>13</th>\n",
       "      <td>Chris galletta</td>\n",
       "      <td><font color = pink>chris</font> <font color = pink>galletta</font> -lrb- born 1981 -rrb- is an american <font color = pink>screenwriter</font> .<SPLIT>he is best known for writing the 2013 coming-of-age film `` the <font color = pink>kings</font> of <font color = pink>summer</font> '' .<SPLIT></td>\n",
       "      <td>Babu janardhanan</td>\n",
       "      <td><<font color = pink>mask</font>> <<font color = pink>mask</font>> -lrb- born 1981 -rrb- is an american <<font color = pink>mask</font>> .<SPLIT>he is best known for writing the 2013 coming-of-age film `` the <<font color = pink>mask</font>> of <<font color = pink>mask</font>> '' .<SPLIT></td>\n",
       "      <td>0.828419</td>\n",
       "      <td>0.998590</td>\n",
       "      <td>16</td>\n",
       "      <td>716</td>\n",
       "      <td>16</td>\n",
       "      <td>386</td>\n",
       "      <td>Successful</td>\n",
       "    </tr>\n",
       "    <tr>\n",
       "      <th>14</th>\n",
       "      <td>Darren m. swain</td>\n",
       "      <td><font color = gray>darren</font> <font color = gray>m</font>. <font color = gray>swain</font> <font color = gray>is</font> an <font color = gray>american</font> <font color = gray>politician</font> , <font color = gray>a</font> democrat and <font color = gray>a</font> member of the <font color = gray>maryland</font> house of <font color = gray>delegates</font> .<SPLIT></td>\n",
       "      <td>John kellogg</td>\n",
       "      <td><<font color = green>mask</font>> <<font color = green>mask</font>>. <<font color = green>mask</font>> <<font color = green>mask</font>> an <<font color = green>mask</font>> <<font color = green>mask</font>> , <<font color = green>mask</font>> democrat and <<font color = green>mask</font>> member of the <<font color = green>mask</font>> house of <<font color = green>mask</font>> .<SPLIT></td>\n",
       "      <td>0.018927</td>\n",
       "      <td>0.986450</td>\n",
       "      <td>18</td>\n",
       "      <td>2101</td>\n",
       "      <td>18</td>\n",
       "      <td>487</td>\n",
       "      <td>Failed</td>\n",
       "    </tr>\n",
       "  </tbody>\n",
       "</table>"
      ],
      "text/plain": [
       "<IPython.core.display.HTML object>"
      ]
     },
     "metadata": {},
     "output_type": "display_data"
    }
   ],
   "source": [
    "from textattack import Attack\n",
    "from textattack.constraints.pre_transformation import RepeatModification\n",
    "\n",
    "goal_function = ChangeClassificationToBelowTopKClasses(model_wrapper, k=100)\n",
    "constraints = [RepeatModification(), MaxNumWordsModified(max_num_words=10)]\n",
    "transformation = WordSwapSingleWord(single_word=dm.tokenizer.mask_token)\n",
    "search_method = textattack.search_methods.BeamSearch(beam_width=4)\n",
    "\n",
    "attack = Attack(\n",
    "    goal_function, constraints, transformation, search_method\n",
    ")\n",
    "# \n",
    "#  Initialize attack\n",
    "# \n",
    "from tqdm import tqdm # tqdm provides us a nice progress bar.\n",
    "from textattack.attack_results import SuccessfulAttackResult\n",
    "from textattack import Attacker\n",
    "from textattack import AttackArgs\n",
    "\n",
    "attack_args = AttackArgs(num_examples=15, disable_stdout=True)\n",
    "dataset = WikiDataset(dm)\n",
    "\n",
    "attacker = Attacker(attack, dataset, attack_args)\n",
    "\n",
    "results_iterable = attacker.attack_dataset()\n",
    "\n",
    "logger = CustomCSVLogger(color_method='html')\n",
    "\n",
    "# \n",
    "# Run attack\n",
    "# \n",
    "from tqdm import tqdm\n",
    "for result in results_iterable:\n",
    "    tqdm._instances.clear() # Doesn't fix the progress bar :-(\n",
    "    logger.log_attack_result(result)\n",
    "\n",
    "from IPython.display import display, HTML\n",
    "\n",
    "display(HTML(logger.df.to_html(escape=False)))"
   ]
  },
  {
   "cell_type": "code",
   "execution_count": null,
   "id": "37e82a0e-e90e-4936-a04d-45ba81dbb79d",
   "metadata": {},
   "outputs": [],
   "source": []
  }
 ],
 "metadata": {
  "kernelspec": {
   "display_name": "Python 3",
   "language": "python",
   "name": "python3"
  },
  "language_info": {
   "codemirror_mode": {
    "name": "ipython",
    "version": 3
   },
   "file_extension": ".py",
   "mimetype": "text/x-python",
   "name": "python",
   "nbconvert_exporter": "python",
   "pygments_lexer": "ipython3",
   "version": "3.9.7"
  }
 },
 "nbformat": 4,
 "nbformat_minor": 5
}
