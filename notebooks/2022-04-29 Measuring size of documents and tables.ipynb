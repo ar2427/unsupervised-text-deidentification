{
 "cells": [
  {
   "cell_type": "code",
   "execution_count": 6,
   "id": "e510dfbd-8c05-4720-b621-4e864dadae7d",
   "metadata": {},
   "outputs": [],
   "source": [
    "import sys\n",
    "sys.path.append('/home/jxm3/research/deidentification/unsupervised-deidentification')"
   ]
  },
  {
   "cell_type": "code",
   "execution_count": 1,
   "id": "c4419c13-e756-46a5-8dc5-7c6502978cbe",
   "metadata": {},
   "outputs": [
    {
     "name": "stderr",
     "output_type": "stream",
     "text": [
      "Using custom data configuration default\n",
      "Reusing dataset wiki_bio (/home/jxm3/.cache/huggingface/datasets/wiki_bio/default/1.2.0/c05ce066e9026831cd7535968a311fc80f074b58868cfdffccbc811dff2ab6da)\n"
     ]
    },
    {
     "data": {
      "application/vnd.jupyter.widget-view+json": {
       "model_id": "e64b6247dce447118f9cf44bef4821c0",
       "version_major": 2,
       "version_minor": 0
      },
      "text/plain": [
       "  0%|          | 0/3 [00:00<?, ?it/s]"
      ]
     },
     "metadata": {},
     "output_type": "display_data"
    }
   ],
   "source": [
    "import datasets\n",
    "\n",
    "d = datasets.load_dataset('wiki_bio')"
   ]
  },
  {
   "cell_type": "code",
   "execution_count": 2,
   "id": "e7fd5400-2d46-4d68-9c1e-13ebc460a9c8",
   "metadata": {},
   "outputs": [
    {
     "data": {
      "text/plain": [
       "DatasetDict({\n",
       "    train: Dataset({\n",
       "        features: ['input_text', 'target_text'],\n",
       "        num_rows: 582659\n",
       "    })\n",
       "    test: Dataset({\n",
       "        features: ['input_text', 'target_text'],\n",
       "        num_rows: 72831\n",
       "    })\n",
       "    val: Dataset({\n",
       "        features: ['input_text', 'target_text'],\n",
       "        num_rows: 72831\n",
       "    })\n",
       "})"
      ]
     },
     "execution_count": 2,
     "metadata": {},
     "output_type": "execute_result"
    }
   ],
   "source": [
    "d"
   ]
  },
  {
   "cell_type": "code",
   "execution_count": 3,
   "id": "fdc60a04-bb0f-4033-9d3a-27e574721646",
   "metadata": {},
   "outputs": [],
   "source": [
    "t = d['train']"
   ]
  },
  {
   "cell_type": "code",
   "execution_count": 4,
   "id": "86559aca-4026-48ca-8369-42640c23d7fe",
   "metadata": {},
   "outputs": [
    {
     "data": {
      "text/plain": [
       "{'input_text': {'table': {'column_header': ['name',\n",
       "    'nationality',\n",
       "    'birth_date',\n",
       "    'article_title',\n",
       "    'occupation'],\n",
       "   'row_number': [1, 1, 1, 1, 1],\n",
       "   'content': ['walter extra',\n",
       "    'german',\n",
       "    '1954',\n",
       "    'walter extra\\n',\n",
       "    'aircraft designer and manufacturer']},\n",
       "  'context': 'walter extra\\n'},\n",
       " 'target_text': 'walter extra is a german award-winning aerobatic pilot , chief aircraft designer and founder of extra flugzeugbau -lrb- extra aircraft construction -rrb- , a manufacturer of aerobatic aircraft .\\nextra was trained as a mechanical engineer .\\nhe began his flight training in gliders , transitioning to powered aircraft to perform aerobatics .\\nhe built and flew a pitts special aircraft and later built his own extra ea-230 .\\nextra began designing aircraft after competing in the 1982 world aerobatic championships .\\nhis aircraft constructions revolutionized the aerobatics flying scene and still dominate world competitions .\\nthe german pilot klaus schrodt won his world championship title flying an aircraft made by the extra firm .\\nwalter extra has designed a series of performance aircraft which include unlimited aerobatic aircraft and turboprop transports .\\n'}"
      ]
     },
     "execution_count": 4,
     "metadata": {},
     "output_type": "execute_result"
    }
   ],
   "source": [
    "t[0]"
   ]
  },
  {
   "cell_type": "code",
   "execution_count": 7,
   "id": "0c8b3b33-4899-4620-a717-e00265c3c7eb",
   "metadata": {},
   "outputs": [],
   "source": [
    "from utils import words_from_text\n",
    "num_words_from_text = lambda t: len(words_from_text(t))"
   ]
  },
  {
   "cell_type": "code",
   "execution_count": 13,
   "id": "e4a23105-5f01-4051-a7ab-89d50e901b7c",
   "metadata": {},
   "outputs": [
    {
     "data": {
      "application/vnd.jupyter.widget-view+json": {
       "model_id": "8a5355af2f4d48cebfd52d2c0fad3b70",
       "version_major": 2,
       "version_minor": 0
      },
      "text/plain": [
       "  0%|          | 0/582659 [00:00<?, ?it/s]"
      ]
     },
     "metadata": {},
     "output_type": "display_data"
    },
    {
     "name": "stderr",
     "output_type": "stream",
     "text": [
      "  0%|          | 0/582659 [03:13<?, ?it/s]\n"
     ]
    }
   ],
   "source": [
    "from tqdm.notebook import tqdm\n",
    "num_words_from_ex = lambda ex: num_words_from_text(ex['target_text'])\n",
    "t_num_words = list(map(num_words_from_ex, tqdm(t)))"
   ]
  },
  {
   "cell_type": "code",
   "execution_count": 15,
   "id": "c380b604-f369-46d3-ad1e-4734592f01f1",
   "metadata": {},
   "outputs": [
    {
     "data": {
      "application/vnd.jupyter.widget-view+json": {
       "model_id": "f416985e002442b992af557e83b1ddbc",
       "version_major": 2,
       "version_minor": 0
      },
      "text/plain": [
       "  0%|          | 0/582659 [00:00<?, ?it/s]"
      ]
     },
     "metadata": {},
     "output_type": "display_data"
    }
   ],
   "source": [
    "num_rows_from_ex = lambda ex: sum(ex['input_text']['table']['row_number'])\n",
    "t_num_rows = list(map(num_rows_from_ex, tqdm(t)))"
   ]
  },
  {
   "cell_type": "code",
   "execution_count": 18,
   "id": "8b1da4a5-581a-4d11-a6c9-9cd074f0d71a",
   "metadata": {},
   "outputs": [],
   "source": [
    "import pandas as pd"
   ]
  },
  {
   "cell_type": "code",
   "execution_count": 19,
   "id": "33ea082f-0b2c-4cec-b3b7-cdacd924b8ce",
   "metadata": {},
   "outputs": [
    {
     "data": {
      "text/html": [
       "<div>\n",
       "<style scoped>\n",
       "    .dataframe tbody tr th:only-of-type {\n",
       "        vertical-align: middle;\n",
       "    }\n",
       "\n",
       "    .dataframe tbody tr th {\n",
       "        vertical-align: top;\n",
       "    }\n",
       "\n",
       "    .dataframe thead th {\n",
       "        text-align: right;\n",
       "    }\n",
       "</style>\n",
       "<table border=\"1\" class=\"dataframe\">\n",
       "  <thead>\n",
       "    <tr style=\"text-align: right;\">\n",
       "      <th></th>\n",
       "      <th>num_words</th>\n",
       "      <th>num_rows</th>\n",
       "    </tr>\n",
       "  </thead>\n",
       "  <tbody>\n",
       "    <tr>\n",
       "      <th>0</th>\n",
       "      <td>124</td>\n",
       "      <td>5</td>\n",
       "    </tr>\n",
       "    <tr>\n",
       "      <th>1</th>\n",
       "      <td>22</td>\n",
       "      <td>14</td>\n",
       "    </tr>\n",
       "    <tr>\n",
       "      <th>2</th>\n",
       "      <td>51</td>\n",
       "      <td>16</td>\n",
       "    </tr>\n",
       "    <tr>\n",
       "      <th>3</th>\n",
       "      <td>37</td>\n",
       "      <td>6</td>\n",
       "    </tr>\n",
       "    <tr>\n",
       "      <th>4</th>\n",
       "      <td>269</td>\n",
       "      <td>11</td>\n",
       "    </tr>\n",
       "  </tbody>\n",
       "</table>\n",
       "</div>"
      ],
      "text/plain": [
       "   num_words  num_rows\n",
       "0        124         5\n",
       "1         22        14\n",
       "2         51        16\n",
       "3         37         6\n",
       "4        269        11"
      ]
     },
     "execution_count": 19,
     "metadata": {},
     "output_type": "execute_result"
    }
   ],
   "source": [
    "df = pd.DataFrame.from_dict({'num_words': t_num_words, 'num_rows': t_num_rows})\n",
    "df.head()"
   ]
  },
  {
   "cell_type": "code",
   "execution_count": 20,
   "id": "c6da8c10-31e3-4a68-bbcf-96359c3e1b20",
   "metadata": {},
   "outputs": [],
   "source": [
    "import seaborn as sns\n",
    "sns.set()"
   ]
  },
  {
   "cell_type": "code",
   "execution_count": 24,
   "id": "f6d21764-d85b-4d68-b1d6-d2a239a9973e",
   "metadata": {},
   "outputs": [
    {
     "data": {
      "text/plain": [
       "Text(0.5, 1.0, 'number of rows in profiles')"
      ]
     },
     "execution_count": 24,
     "metadata": {},
     "output_type": "execute_result"
    },
    {
     "data": {
      "image/png": "[encoded data removed]",
      "text/plain": [
       "<Figure size 432x288 with 1 Axes>"
      ]
     },
     "metadata": {},
     "output_type": "display_data"
    }
   ],
   "source": [
    "df['num_rows'].hist(bins=40).set_title('number of rows in profiles')"
   ]
  },
  {
   "cell_type": "code",
   "execution_count": 25,
   "id": "f2a1723a-92e4-4dbb-a1c7-ac8951ff4821",
   "metadata": {},
   "outputs": [
    {
     "data": {
      "text/plain": [
       "Text(0.5, 1.0, 'number of words in documents')"
      ]
     },
     "execution_count": 25,
     "metadata": {},
     "output_type": "execute_result"
    },
    {
     "data": {
      "image/png": "[encoded data removed]",
      "text/plain": [
       "<Figure size 432x288 with 1 Axes>"
      ]
     },
     "metadata": {},
     "output_type": "display_data"
    }
   ],
   "source": [
    "import matplotlib.pyplot as plt\n",
    "df['num_words'].hist(bins=40).set_title('number of words in documents')"
   ]
  },
  {
   "cell_type": "code",
   "execution_count": 26,
   "id": "1b85d768-076e-469a-b7c8-d1c4525544a4",
   "metadata": {},
   "outputs": [
    {
     "data": {
      "text/plain": [
       "Text(0.5, 1.0, 'number of words in documents')"
      ]
     },
     "execution_count": 26,
     "metadata": {},
     "output_type": "execute_result"
    },
    {
     "data": {
      "image/png": "[encoded data removed]",
      "text/plain": [
       "<Figure size 432x288 with 1 Axes>"
      ]
     },
     "metadata": {},
     "output_type": "display_data"
    }
   ],
   "source": [
    "df['num_words'][df['num_words'] < 256].hist(bins=40).set_title('number of words in documents')"
   ]
  },
  {
   "cell_type": "code",
   "execution_count": 31,
   "id": "0edbc30f-0fad-4d5e-8403-9f7612946062",
   "metadata": {},
   "outputs": [
    {
     "data": {
      "text/plain": [
       "19    7432\n",
       "18    6968\n",
       "17    6391\n",
       "16    5939\n",
       "15    5417\n",
       "14    4835\n",
       "13    3413\n",
       "12    2525\n",
       "11    1414\n",
       "10    1080\n",
       "9      741\n",
       "8      580\n",
       "7      452\n",
       "6      372\n",
       "5       20\n",
       "3        6\n",
       "4        5\n",
       "2        3\n",
       "1        1\n",
       "0        1\n",
       "Name: num_words, dtype: int64"
      ]
     },
     "execution_count": 31,
     "metadata": {},
     "output_type": "execute_result"
    }
   ],
   "source": [
    "df['num_words'][df['num_words'] < 20].value_counts()"
   ]
  },
  {
   "cell_type": "code",
   "execution_count": 32,
   "id": "77849486-ee8e-4313-93de-809d0147321c",
   "metadata": {},
   "outputs": [
    {
     "data": {
      "text/plain": [
       "4    10990\n",
       "3     5094\n",
       "2     1394\n",
       "1      258\n",
       "Name: num_rows, dtype: int64"
      ]
     },
     "execution_count": 32,
     "metadata": {},
     "output_type": "execute_result"
    }
   ],
   "source": [
    "df['num_rows'][df['num_rows'] < 5].value_counts()"
   ]
  }
 ],
 "metadata": {
  "kernelspec": {
   "display_name": "Python 3",
   "language": "python",
   "name": "python3"
  },
  "language_info": {
   "codemirror_mode": {
    "name": "ipython",
    "version": 3
   },
   "file_extension": ".py",
   "mimetype": "text/x-python",
   "name": "python",
   "nbconvert_exporter": "python",
   "pygments_lexer": "ipython3",
   "version": "3.9.7"
  }
 },
 "nbformat": 4,
 "nbformat_minor": 5
}
